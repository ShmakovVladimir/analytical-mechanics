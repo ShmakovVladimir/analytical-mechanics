{
 "cells": [
  {
   "cell_type": "markdown",
   "metadata": {},
   "source": [
    "# Кинематика точки"
   ]
  },
  {
   "cell_type": "code",
   "execution_count": 1,
   "metadata": {},
   "outputs": [],
   "source": [
    "import matplotlib.pyplot as plt\n",
    "import numpy as np\n",
    "import sympy as smp"
   ]
  },
  {
   "cell_type": "markdown",
   "metadata": {},
   "source": [
    "### Задача 1.5"
   ]
  },
  {
   "cell_type": "markdown",
   "metadata": {},
   "source": [
    "Точка движется по параболе: $y = \\alpha x^{2}$\n",
    "Абсолютная величина скорости точки - константа: $v = const$"
   ]
  },
  {
   "cell_type": "code",
   "execution_count": 69,
   "metadata": {},
   "outputs": [
    {
     "data": {
      "text/latex": [
       "$\\displaystyle - v + \\sqrt{4 \\alpha^{2} x^{2}{\\left(t \\right)} \\left(\\frac{d}{d t} x{\\left(t \\right)}\\right)^{2} + \\left(\\frac{d}{d t} x{\\left(t \\right)}\\right)^{2}}$"
      ],
      "text/plain": [
       "-v + sqrt(4*\\alpha**2*x(t)**2*Derivative(x(t), t)**2 + Derivative(x(t), t)**2)"
      ]
     },
     "execution_count": 69,
     "metadata": {},
     "output_type": "execute_result"
    }
   ],
   "source": [
    "t,a,v = smp.symbols(r\"t \\alpha v\",real = True)\n",
    "x = smp.symbols('x',cls = smp.Function,real = True) #x - функция от времени\n",
    "x = x(t)\n",
    "r_vector = smp.Matrix([x,a*(x**2)])\n",
    "v_vector = smp.Matrix([r_vector[0].diff(t),r_vector[1].diff(t)])\n",
    "expToFindX = smp.sqrt(v_vector[0]**2+v_vector[1]**2) - v\n",
    "expToFindX"
   ]
  },
  {
   "cell_type": "code",
   "execution_count": null,
   "metadata": {},
   "outputs": [
    {
     "data": {
      "text/latex": [
       "$\\displaystyle \\frac{\\sqrt{v^{2} - \\left(\\frac{d}{d t} x{\\left(t \\right)}\\right)^{2}}}{2 \\alpha \\frac{d}{d t} x{\\left(t \\right)}}$"
      ],
      "text/plain": [
       "sqrt(v**2 - Derivative(x(t), t)**2)/(2*\\alpha*Derivative(x(t), t))"
      ]
     },
     "execution_count": 81,
     "metadata": {},
     "output_type": "execute_result"
    }
   ],
   "source": [
    "smp.dsolve(expToFindX,x,t)[1][x]"
   ]
  }
 ],
 "metadata": {
  "kernelspec": {
   "display_name": "Python 3.9.1 64-bit (system)",
   "language": "python",
   "name": "python3"
  },
  "language_info": {
   "codemirror_mode": {
    "name": "ipython",
    "version": 3
   },
   "file_extension": ".py",
   "mimetype": "text/x-python",
   "name": "python",
   "nbconvert_exporter": "python",
   "pygments_lexer": "ipython3",
   "version": "3.9.1"
  },
  "orig_nbformat": 4,
  "vscode": {
   "interpreter": {
    "hash": "c46ca4107e02cc35b8a86c8d0e6548e94f11f1e0488972cbcfefa78e90422c8a"
   }
  }
 },
 "nbformat": 4,
 "nbformat_minor": 2
}
