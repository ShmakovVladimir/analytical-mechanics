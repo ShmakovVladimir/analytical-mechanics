{
 "cells": [
  {
   "cell_type": "code",
   "execution_count": 1,
   "metadata": {},
   "outputs": [],
   "source": [
    "import matplotlib.pyplot as plt\n",
    "import numpy as np\n",
    "import sympy as smp"
   ]
  },
  {
   "cell_type": "code",
   "execution_count": 2,
   "metadata": {},
   "outputs": [],
   "source": [
    "k,l,phi,m,g,w = smp.symbols(r\"k l \\phi m g w\")"
   ]
  },
  {
   "cell_type": "code",
   "execution_count": 3,
   "metadata": {},
   "outputs": [],
   "source": [
    "eq = -4*k*(l**2)*smp.sin(phi)*smp.cos(phi) - 4*m*g*l*smp.cos(phi) - 8*m*(l**2)*smp.sin(phi)*smp.cos(phi)*(w**2)"
   ]
  },
  {
   "cell_type": "code",
   "execution_count": 4,
   "metadata": {},
   "outputs": [
    {
     "data": {
      "text/latex": [
       "$\\displaystyle - 4 g l m \\cos{\\left(\\phi \\right)} - 4 k l^{2} \\sin{\\left(\\phi \\right)} \\cos{\\left(\\phi \\right)} - 8 l^{2} m w^{2} \\sin{\\left(\\phi \\right)} \\cos{\\left(\\phi \\right)}$"
      ],
      "text/plain": [
       "-4*g*l*m*cos(\\phi) - 4*k*l**2*sin(\\phi)*cos(\\phi) - 8*l**2*m*w**2*sin(\\phi)*cos(\\phi)"
      ]
     },
     "execution_count": 4,
     "metadata": {},
     "output_type": "execute_result"
    }
   ],
   "source": [
    "eq"
   ]
  },
  {
   "cell_type": "code",
   "execution_count": 16,
   "metadata": {},
   "outputs": [],
   "source": [
    "solution = smp.solve(eq, phi, simplify = True)"
   ]
  },
  {
   "cell_type": "code",
   "execution_count": 17,
   "metadata": {},
   "outputs": [
    {
     "data": {
      "text/latex": [
       "$\\displaystyle - 2 \\operatorname{atan}{\\left(\\frac{k l + 2 l m w^{2} - \\sqrt{- g^{2} m^{2} + k^{2} l^{2} + 4 k l^{2} m w^{2} + 4 l^{2} m^{2} w^{4}}}{g m} \\right)}$"
      ],
      "text/plain": [
       "-2*atan((k*l + 2*l*m*w**2 - sqrt(-g**2*m**2 + k**2*l**2 + 4*k*l**2*m*w**2 + 4*l**2*m**2*w**4))/(g*m))"
      ]
     },
     "execution_count": 17,
     "metadata": {},
     "output_type": "execute_result"
    }
   ],
   "source": [
    "solution[2]"
   ]
  },
  {
   "cell_type": "code",
   "execution_count": 21,
   "metadata": {},
   "outputs": [
    {
     "data": {
      "text/latex": [
       "$\\displaystyle - 2 \\operatorname{atan}{\\left(\\frac{k l + 2 l m w^{2} + \\sqrt{- g^{2} m^{2} + k^{2} l^{2} + 4 k l^{2} m w^{2} + 4 l^{2} m^{2} w^{4}}}{g m} \\right)}$"
      ],
      "text/plain": [
       "-2*atan((k*l + 2*l*m*w**2 + sqrt(-g**2*m**2 + k**2*l**2 + 4*k*l**2*m*w**2 + 4*l**2*m**2*w**4))/(g*m))"
      ]
     },
     "execution_count": 21,
     "metadata": {},
     "output_type": "execute_result"
    }
   ],
   "source": [
    "solution[3]"
   ]
  }
 ],
 "metadata": {
  "kernelspec": {
   "display_name": "Python 3",
   "language": "python",
   "name": "python3"
  },
  "language_info": {
   "codemirror_mode": {
    "name": "ipython",
    "version": 3
   },
   "file_extension": ".py",
   "mimetype": "text/x-python",
   "name": "python",
   "nbconvert_exporter": "python",
   "pygments_lexer": "ipython3",
   "version": "3.10.6"
  },
  "orig_nbformat": 4
 },
 "nbformat": 4,
 "nbformat_minor": 2
}
