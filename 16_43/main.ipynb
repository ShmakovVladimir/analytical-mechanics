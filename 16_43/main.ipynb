{
 "cells": [
  {
   "cell_type": "code",
   "execution_count": 1,
   "metadata": {},
   "outputs": [],
   "source": [
    "import matplotlib.pyplot as plt\n",
    "import numpy as np\n",
    "import sympy as smp"
   ]
  },
  {
   "attachments": {},
   "cell_type": "markdown",
   "metadata": {},
   "source": [
    "Символьные переменные"
   ]
  },
  {
   "cell_type": "code",
   "execution_count": 9,
   "metadata": {},
   "outputs": [],
   "source": [
    "m, R, r, l, t, lamb, g = smp.symbols(r\"m R r l t \\lambda g\")\n",
    "\n",
    "theta, phi = smp.symbols(r\"\\theta \\phi\", cls = smp.Function)\n",
    "\n",
    "theta = theta(t)\n",
    "phi = phi(t)\n",
    "\n",
    "theta_d = smp.diff(theta, t)\n",
    "theta_dd = smp.diff(theta_d, t)\n",
    "\n",
    "phi_d = smp.diff(phi, t)\n",
    "phi_dd = smp.diff(phi_d, t)\n",
    "\n",
    "q = smp.Matrix([phi, theta])\n",
    "q_d = smp.diff(q, t)\n",
    "q_dd = smp.diff(q_d, t)\n"
   ]
  },
  {
   "attachments": {},
   "cell_type": "markdown",
   "metadata": {},
   "source": [
    "Кинетическая и потенциальная энергия системы"
   ]
  },
  {
   "cell_type": "code",
   "execution_count": 10,
   "metadata": {},
   "outputs": [],
   "source": [
    "T = m * ((R - r)**2) * (phi_d ** 2) / 2 + (m/4) * (\n",
    "    ((R - r)**2) * (phi_d**2) + (R-r)*phi_d*l*theta_d*smp.cos(theta - phi) + (l**2)*(theta_d**2)\n",
    ")"
   ]
  },
  {
   "cell_type": "code",
   "execution_count": 11,
   "metadata": {},
   "outputs": [],
   "source": [
    "P = -m * g * (R - r)* (3 * smp.cos(phi) / 2 + smp.cos(theta) / 4)"
   ]
  },
  {
   "cell_type": "code",
   "execution_count": 13,
   "metadata": {},
   "outputs": [
    {
     "data": {
      "text/latex": [
       "$\\displaystyle \\left[\\begin{matrix}\\frac{3 m \\left(R - r\\right)^{2}}{2} & \\frac{l m \\left(R - r\\right) \\cos{\\left(\\phi{\\left(t \\right)} - \\theta{\\left(t \\right)} \\right)}}{4}\\\\\\frac{l m \\left(R - r\\right) \\cos{\\left(\\phi{\\left(t \\right)} - \\theta{\\left(t \\right)} \\right)}}{4} & \\frac{l^{2} m}{2}\\end{matrix}\\right]$"
      ],
      "text/plain": [
       "Matrix([\n",
       "[                      3*m*(R - r)**2/2, l*m*(R - r)*cos(\\phi(t) - \\theta(t))/4],\n",
       "[l*m*(R - r)*cos(\\phi(t) - \\theta(t))/4,                               l**2*m/2]])"
      ]
     },
     "execution_count": 13,
     "metadata": {},
     "output_type": "execute_result"
    }
   ],
   "source": [
    "A = smp.Matrix([[smp.diff(smp.diff(T, i), j) for i in q_d] for j in q_d])\n",
    "A"
   ]
  },
  {
   "cell_type": "code",
   "execution_count": 14,
   "metadata": {},
   "outputs": [
    {
     "data": {
      "text/latex": [
       "$\\displaystyle \\left[\\begin{matrix}\\frac{3 g m \\left(R - r\\right) \\cos{\\left(\\phi{\\left(t \\right)} \\right)}}{2} & 0\\\\0 & \\frac{g m \\left(R - r\\right) \\cos{\\left(\\theta{\\left(t \\right)} \\right)}}{4}\\end{matrix}\\right]$"
      ],
      "text/plain": [
       "Matrix([\n",
       "[3*g*m*(R - r)*cos(\\phi(t))/2,                            0],\n",
       "[                           0, g*m*(R - r)*cos(\\theta(t))/4]])"
      ]
     },
     "execution_count": 14,
     "metadata": {},
     "output_type": "execute_result"
    }
   ],
   "source": [
    "C = smp.Matrix([[smp.diff(smp.diff(P, i), j) for i in q] for j in q])\n",
    "C"
   ]
  },
  {
   "attachments": {},
   "cell_type": "markdown",
   "metadata": {},
   "source": [
    "Нахождение собственных частот"
   ]
  },
  {
   "cell_type": "code",
   "execution_count": 24,
   "metadata": {},
   "outputs": [
    {
     "data": {
      "text/latex": [
       "$\\displaystyle \\frac{m^{2} \\left(- 6 R^{3} \\lambda g \\cos{\\left(\\theta{\\left(t \\right)} \\right)} - R^{2} \\lambda^{2} l^{2} \\cos^{2}{\\left(\\phi{\\left(t \\right)} - \\theta{\\left(t \\right)} \\right)} + 12 R^{2} \\lambda^{2} l^{2} + 18 R^{2} \\lambda g r \\cos{\\left(\\theta{\\left(t \\right)} \\right)} + 6 R^{2} g^{2} \\cos{\\left(\\phi{\\left(t \\right)} \\right)} \\cos{\\left(\\theta{\\left(t \\right)} \\right)} + 2 R \\lambda^{2} l^{2} r \\cos^{2}{\\left(\\phi{\\left(t \\right)} - \\theta{\\left(t \\right)} \\right)} - 24 R \\lambda^{2} l^{2} r - 12 R \\lambda g l^{2} \\cos{\\left(\\phi{\\left(t \\right)} \\right)} - 18 R \\lambda g r^{2} \\cos{\\left(\\theta{\\left(t \\right)} \\right)} - 12 R g^{2} r \\cos{\\left(\\phi{\\left(t \\right)} \\right)} \\cos{\\left(\\theta{\\left(t \\right)} \\right)} - \\lambda^{2} l^{2} r^{2} \\cos^{2}{\\left(\\phi{\\left(t \\right)} - \\theta{\\left(t \\right)} \\right)} + 12 \\lambda^{2} l^{2} r^{2} + 12 \\lambda g l^{2} r \\cos{\\left(\\phi{\\left(t \\right)} \\right)} + 6 \\lambda g r^{3} \\cos{\\left(\\theta{\\left(t \\right)} \\right)} + 6 g^{2} r^{2} \\cos{\\left(\\phi{\\left(t \\right)} \\right)} \\cos{\\left(\\theta{\\left(t \\right)} \\right)}\\right)}{16}$"
      ],
      "text/plain": [
       "m**2*(-6*R**3*\\lambda*g*cos(\\theta(t)) - R**2*\\lambda**2*l**2*cos(\\phi(t) - \\theta(t))**2 + 12*R**2*\\lambda**2*l**2 + 18*R**2*\\lambda*g*r*cos(\\theta(t)) + 6*R**2*g**2*cos(\\phi(t))*cos(\\theta(t)) + 2*R*\\lambda**2*l**2*r*cos(\\phi(t) - \\theta(t))**2 - 24*R*\\lambda**2*l**2*r - 12*R*\\lambda*g*l**2*cos(\\phi(t)) - 18*R*\\lambda*g*r**2*cos(\\theta(t)) - 12*R*g**2*r*cos(\\phi(t))*cos(\\theta(t)) - \\lambda**2*l**2*r**2*cos(\\phi(t) - \\theta(t))**2 + 12*\\lambda**2*l**2*r**2 + 12*\\lambda*g*l**2*r*cos(\\phi(t)) + 6*\\lambda*g*r**3*cos(\\theta(t)) + 6*g**2*r**2*cos(\\phi(t))*cos(\\theta(t)))/16"
      ]
     },
     "execution_count": 24,
     "metadata": {},
     "output_type": "execute_result"
    }
   ],
   "source": [
    "eq = (C - lamb * A).det().simplify()\n",
    "eq"
   ]
  },
  {
   "cell_type": "code",
   "execution_count": 27,
   "metadata": {},
   "outputs": [
    {
     "data": {
      "text/plain": [
       "2"
      ]
     },
     "execution_count": 27,
     "metadata": {},
     "output_type": "execute_result"
    }
   ],
   "source": [
    "eigenFreq = smp.solve([eq, l - (R - r) / 2], lamb)\n",
    "len(eigenFreq)"
   ]
  },
  {
   "cell_type": "code",
   "execution_count": 32,
   "metadata": {},
   "outputs": [
    {
     "data": {
      "text/latex": [
       "$\\displaystyle \\frac{3 R^{2} g \\cos{\\left(\\theta{\\left(t \\right)} \\right)} - 6 R g r \\cos{\\left(\\theta{\\left(t \\right)} \\right)} + 6 g l^{2} \\cos{\\left(\\phi{\\left(t \\right)} \\right)} + 3 g r^{2} \\cos{\\left(\\theta{\\left(t \\right)} \\right)} + \\sqrt{3} g \\sqrt{3 R^{4} \\cos^{2}{\\left(\\theta{\\left(t \\right)} \\right)} - 12 R^{3} r \\cos^{2}{\\left(\\theta{\\left(t \\right)} \\right)} + 2 R^{2} l^{2} \\cos^{2}{\\left(\\phi{\\left(t \\right)} - \\theta{\\left(t \\right)} \\right)} \\cos{\\left(\\phi{\\left(t \\right)} \\right)} \\cos{\\left(\\theta{\\left(t \\right)} \\right)} - 12 R^{2} l^{2} \\cos{\\left(\\phi{\\left(t \\right)} \\right)} \\cos{\\left(\\theta{\\left(t \\right)} \\right)} + 18 R^{2} r^{2} \\cos^{2}{\\left(\\theta{\\left(t \\right)} \\right)} - 4 R l^{2} r \\cos^{2}{\\left(\\phi{\\left(t \\right)} - \\theta{\\left(t \\right)} \\right)} \\cos{\\left(\\phi{\\left(t \\right)} \\right)} \\cos{\\left(\\theta{\\left(t \\right)} \\right)} + 24 R l^{2} r \\cos{\\left(\\phi{\\left(t \\right)} \\right)} \\cos{\\left(\\theta{\\left(t \\right)} \\right)} - 12 R r^{3} \\cos^{2}{\\left(\\theta{\\left(t \\right)} \\right)} + 12 l^{4} \\cos^{2}{\\left(\\phi{\\left(t \\right)} \\right)} + 2 l^{2} r^{2} \\cos^{2}{\\left(\\phi{\\left(t \\right)} - \\theta{\\left(t \\right)} \\right)} \\cos{\\left(\\phi{\\left(t \\right)} \\right)} \\cos{\\left(\\theta{\\left(t \\right)} \\right)} - 12 l^{2} r^{2} \\cos{\\left(\\phi{\\left(t \\right)} \\right)} \\cos{\\left(\\theta{\\left(t \\right)} \\right)} + 3 r^{4} \\cos^{2}{\\left(\\theta{\\left(t \\right)} \\right)}}}{- R l^{2} \\cos^{2}{\\left(\\phi{\\left(t \\right)} - \\theta{\\left(t \\right)} \\right)} + 12 R l^{2} + l^{2} r \\cos^{2}{\\left(\\phi{\\left(t \\right)} - \\theta{\\left(t \\right)} \\right)} - 12 l^{2} r}$"
      ],
      "text/plain": [
       "(3*R**2*g*cos(\\theta(t)) - 6*R*g*r*cos(\\theta(t)) + 6*g*l**2*cos(\\phi(t)) + 3*g*r**2*cos(\\theta(t)) + sqrt(3)*g*sqrt(3*R**4*cos(\\theta(t))**2 - 12*R**3*r*cos(\\theta(t))**2 + 2*R**2*l**2*cos(\\phi(t) - \\theta(t))**2*cos(\\phi(t))*cos(\\theta(t)) - 12*R**2*l**2*cos(\\phi(t))*cos(\\theta(t)) + 18*R**2*r**2*cos(\\theta(t))**2 - 4*R*l**2*r*cos(\\phi(t) - \\theta(t))**2*cos(\\phi(t))*cos(\\theta(t)) + 24*R*l**2*r*cos(\\phi(t))*cos(\\theta(t)) - 12*R*r**3*cos(\\theta(t))**2 + 12*l**4*cos(\\phi(t))**2 + 2*l**2*r**2*cos(\\phi(t) - \\theta(t))**2*cos(\\phi(t))*cos(\\theta(t)) - 12*l**2*r**2*cos(\\phi(t))*cos(\\theta(t)) + 3*r**4*cos(\\theta(t))**2))/(-R*l**2*cos(\\phi(t) - \\theta(t))**2 + 12*R*l**2 + l**2*r*cos(\\phi(t) - \\theta(t))**2 - 12*l**2*r)"
      ]
     },
     "execution_count": 32,
     "metadata": {},
     "output_type": "execute_result"
    }
   ],
   "source": [
    "eigenFreq[1][0]"
   ]
  }
 ],
 "metadata": {
  "kernelspec": {
   "display_name": "Python 3",
   "language": "python",
   "name": "python3"
  },
  "language_info": {
   "codemirror_mode": {
    "name": "ipython",
    "version": 3
   },
   "file_extension": ".py",
   "mimetype": "text/x-python",
   "name": "python",
   "nbconvert_exporter": "python",
   "pygments_lexer": "ipython3",
   "version": "3.10.6"
  },
  "orig_nbformat": 4
 },
 "nbformat": 4,
 "nbformat_minor": 2
}
