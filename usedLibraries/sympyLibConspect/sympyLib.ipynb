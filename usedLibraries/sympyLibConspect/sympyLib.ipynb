{
 "cells": [
  {
   "cell_type": "markdown",
   "metadata": {},
   "source": [
    "# Библиотека sympy\n",
    "\n",
    "**Sympy** - библиотека, позволяющая работать с математикой на python. Sympy работает исключительно с символьными записями.\n",
    "То есть математические объекты записаны точно, без приближения.\n",
    "Это похоже на работу **wolfram alpha**, мы вводим команду `sin(x) derivative`, и программа возвращает символьный результат `cos(x)`. \n"
   ]
  },
  {
   "cell_type": "markdown",
   "metadata": {},
   "source": [
    "## Введение"
   ]
  },
  {
   "cell_type": "markdown",
   "metadata": {},
   "source": [
    "### Объявление символьных объектов"
   ]
  },
  {
   "cell_type": "markdown",
   "metadata": {},
   "source": [
    "Для начала необходимо импортировать библиотеку: `import sympy as smp`. Для удобства присвоим ей сокращенное имя `smp`. Также для дальнейшей работы могут понадобиться `numpy` и `matplotlib`."
   ]
  },
  {
   "cell_type": "code",
   "execution_count": 179,
   "metadata": {},
   "outputs": [],
   "source": [
    "import numpy as np\n",
    "import matplotlib.pyplot as plt\n",
    "import sympy as smp"
   ]
  },
  {
   "cell_type": "markdown",
   "metadata": {},
   "source": [
    "Как было сказано ранее **sympy** работает с символами. Чтобы создать символьный объект используется метод `.symbols()`. "
   ]
  },
  {
   "cell_type": "code",
   "execution_count": 180,
   "metadata": {},
   "outputs": [],
   "source": [
    "x = smp.symbols('x') #создаём символьный объект x, с latex символом 'x'"
   ]
  },
  {
   "cell_type": "code",
   "execution_count": 181,
   "metadata": {},
   "outputs": [
    {
     "data": {
      "text/latex": [
       "$\\displaystyle x$"
      ],
      "text/plain": [
       "x"
      ]
     },
     "execution_count": 181,
     "metadata": {},
     "output_type": "execute_result"
    }
   ],
   "source": [
    "x "
   ]
  },
  {
   "cell_type": "markdown",
   "metadata": {},
   "source": [
    "Теперь над данным символьным объектом могут произведены математические операции. Например:"
   ]
  },
  {
   "cell_type": "code",
   "execution_count": 182,
   "metadata": {},
   "outputs": [
    {
     "data": {
      "text/latex": [
       "$\\displaystyle \\sin{\\left(x \\right)}$"
      ],
      "text/plain": [
       "sin(x)"
      ]
     },
     "execution_count": 182,
     "metadata": {},
     "output_type": "execute_result"
    }
   ],
   "source": [
    "smp.sin(x) #возвращает символьный объект - синус аргумента"
   ]
  },
  {
   "cell_type": "markdown",
   "metadata": {},
   "source": [
    "Далее мы увидим, что часто необходимо строго указывать тип символьной переменной. Для этого необходимо заполнить соответствующее типу переменной поле значением `True`. Например:"
   ]
  },
  {
   "cell_type": "code",
   "execution_count": 183,
   "metadata": {},
   "outputs": [],
   "source": [
    "y = smp.symbols('y',real = True) #переменная y - действительное число"
   ]
  },
  {
   "cell_type": "markdown",
   "metadata": {},
   "source": [
    "Вот список булевых полей, которые могут быть заполнены для объявления типа объектов:\n",
    "- real - действительное число $\\in R$\n",
    "- complex - комплексное число $\\in C$\n",
    "- integer - целое число $\\in Z$\n",
    "- positive - положительное число (можно заполнить вместе с другим полем - например создать положительное действительное число)"
   ]
  },
  {
   "cell_type": "markdown",
   "metadata": {},
   "source": [
    "Ранее мы объявляли только символьные переменные, присваивали им имена, и производили над ними тригонометрические операции. Но иногда полезно обьявлять не переменные, а **функции**. Для это можно воспользоваться полем `cls` при создании символьного объекта."
   ]
  },
  {
   "cell_type": "code",
   "execution_count": 184,
   "metadata": {},
   "outputs": [],
   "source": [
    "f = smp.symbols('f',cls = smp.Function)"
   ]
  },
  {
   "cell_type": "markdown",
   "metadata": {},
   "source": [
    "Строчкой выше была создана символьная функция f. Чтобы указать от каких переменных зависит созданная функция f, нужно воспользоваться конструкцией:"
   ]
  },
  {
   "cell_type": "code",
   "execution_count": 185,
   "metadata": {},
   "outputs": [],
   "source": [
    "x = smp.symbols('x')\n",
    "f = f(x)"
   ]
  },
  {
   "cell_type": "markdown",
   "metadata": {},
   "source": [
    "Получили функцию $f$, зависящую от переменной $x$:"
   ]
  },
  {
   "cell_type": "code",
   "execution_count": 186,
   "metadata": {},
   "outputs": [
    {
     "data": {
      "text/latex": [
       "$\\displaystyle f{\\left(x \\right)}$"
      ],
      "text/plain": [
       "f(x)"
      ]
     },
     "execution_count": 186,
     "metadata": {},
     "output_type": "execute_result"
    }
   ],
   "source": [
    "f"
   ]
  },
  {
   "cell_type": "markdown",
   "metadata": {},
   "source": [
    "### Математические операции над символьными объетами"
   ]
  },
  {
   "cell_type": "markdown",
   "metadata": {},
   "source": [
    "#### Тригонометрия"
   ]
  },
  {
   "cell_type": "markdown",
   "metadata": {},
   "source": [
    "`.cos(arg)` - косинус аргумента $\\operatorname{cos}(arg)$"
   ]
  },
  {
   "cell_type": "code",
   "execution_count": 187,
   "metadata": {},
   "outputs": [
    {
     "data": {
      "text/latex": [
       "$\\displaystyle \\cos{\\left(x \\right)}$"
      ],
      "text/plain": [
       "cos(x)"
      ]
     },
     "execution_count": 187,
     "metadata": {},
     "output_type": "execute_result"
    }
   ],
   "source": [
    "smp.cos(x)"
   ]
  },
  {
   "cell_type": "markdown",
   "metadata": {},
   "source": [
    "#### Простые операции"
   ]
  },
  {
   "cell_type": "markdown",
   "metadata": {},
   "source": [
    "`arg**power` - возведение выражения arg в стпень power $arg^{power}$"
   ]
  },
  {
   "cell_type": "code",
   "execution_count": 188,
   "metadata": {},
   "outputs": [
    {
     "data": {
      "text/latex": [
       "$\\displaystyle x^{2}$"
      ],
      "text/plain": [
       "x**2"
      ]
     },
     "execution_count": 188,
     "metadata": {},
     "output_type": "execute_result"
    }
   ],
   "source": [
    "x**2"
   ]
  },
  {
   "cell_type": "markdown",
   "metadata": {},
   "source": [
    "Также доступны операции вычитания `-`, сложения `+`, деления `/` ..."
   ]
  },
  {
   "cell_type": "markdown",
   "metadata": {},
   "source": [
    "#### Решение уравнений"
   ]
  },
  {
   "cell_type": "markdown",
   "metadata": {},
   "source": [
    "`.factor(arg)` - разложение многочлена arg на скобки(через корни уравнения)"
   ]
  },
  {
   "cell_type": "code",
   "execution_count": 189,
   "metadata": {},
   "outputs": [
    {
     "data": {
      "text/latex": [
       "$\\displaystyle 2 x^{2} + 3 x + 1$"
      ],
      "text/plain": [
       "2*x**2 + 3*x + 1"
      ]
     },
     "execution_count": 189,
     "metadata": {},
     "output_type": "execute_result"
    }
   ],
   "source": [
    "poly = 2*x**2 + 3*x + 1\n",
    "poly"
   ]
  },
  {
   "cell_type": "code",
   "execution_count": 190,
   "metadata": {},
   "outputs": [
    {
     "data": {
      "text/latex": [
       "$\\displaystyle \\left(x + 1\\right) \\left(2 x + 1\\right)$"
      ],
      "text/plain": [
       "(x + 1)*(2*x + 1)"
      ]
     },
     "execution_count": 190,
     "metadata": {},
     "output_type": "execute_result"
    }
   ],
   "source": [
    "smp.factor(poly)"
   ]
  },
  {
   "cell_type": "markdown",
   "metadata": {},
   "source": [
    "`.solve(f,x)` - решение уравнения $\\operatorname{f}(x) = 0$. Возвращает вектор(одномерный массив `list`) решений уравнения"
   ]
  },
  {
   "cell_type": "code",
   "execution_count": 191,
   "metadata": {},
   "outputs": [
    {
     "data": {
      "text/plain": [
       "[-1, -1/2]"
      ]
     },
     "execution_count": 191,
     "metadata": {},
     "output_type": "execute_result"
    }
   ],
   "source": [
    "smp.solve(poly,x)"
   ]
  },
  {
   "cell_type": "code",
   "execution_count": 192,
   "metadata": {},
   "outputs": [
    {
     "data": {
      "text/plain": [
       "[pi/2, 3*pi/2]"
      ]
     },
     "execution_count": 192,
     "metadata": {},
     "output_type": "execute_result"
    }
   ],
   "source": [
    "smp.solve(smp.cos(x),x)"
   ]
  },
  {
   "cell_type": "markdown",
   "metadata": {},
   "source": [
    "Как мы знаем, уравнение $x^2+1 = 0$ не имеет решений в действительных числах:"
   ]
  },
  {
   "cell_type": "code",
   "execution_count": 193,
   "metadata": {},
   "outputs": [
    {
     "data": {
      "text/plain": [
       "[]"
      ]
     },
     "execution_count": 193,
     "metadata": {},
     "output_type": "execute_result"
    }
   ],
   "source": [
    "smp.solve(y**2+1,y) #ранее обьявляли y как действительное число. У уравнения нет решений"
   ]
  },
  {
   "cell_type": "code",
   "execution_count": 194,
   "metadata": {},
   "outputs": [
    {
     "data": {
      "text/plain": [
       "[-I, I]"
      ]
     },
     "execution_count": 194,
     "metadata": {},
     "output_type": "execute_result"
    }
   ],
   "source": [
    "smp.solve(x**2+1,x) #при объявлении x типа указано не было. Поэтому библиотека определила тип x автоматически. Получены решения в комплекных числах"
   ]
  },
  {
   "cell_type": "markdown",
   "metadata": {},
   "source": [
    "#### Математический анализ"
   ]
  },
  {
   "cell_type": "markdown",
   "metadata": {},
   "source": [
    "##### Пределы"
   ]
  },
  {
   "cell_type": "markdown",
   "metadata": {},
   "source": [
    "`.limit(eq,arg1,arg2)` - предел выражения `eq` при `arg1` стремящемся к `arg2` $\\lim_{arg1 \\to arg2} eq$. Попробуем посчитать $$\\lim_{x \\to \\pi/2} \\operatorname{sin}(x)+x$$"
   ]
  },
  {
   "cell_type": "code",
   "execution_count": 195,
   "metadata": {},
   "outputs": [
    {
     "data": {
      "text/latex": [
       "$\\displaystyle 1 + \\frac{\\pi}{2}$"
      ],
      "text/plain": [
       "1 + pi/2"
      ]
     },
     "execution_count": 195,
     "metadata": {},
     "output_type": "execute_result"
    }
   ],
   "source": [
    "x = smp.symbols('x',real = True)\n",
    "smp.limit(smp.sin(x)+x,x,smp.pi/2)"
   ]
  },
  {
   "cell_type": "markdown",
   "metadata": {},
   "source": [
    "Как видим результат совпадет с тем, что мы ожидали. Вышенаписанный предел действительно равен $1+\\pi/2$"
   ]
  },
  {
   "cell_type": "markdown",
   "metadata": {},
   "source": [
    "Попробуем посчиать более сложный предел. Например:$$\\lim_{x \\to 0} \\frac{e^{2x}-e^{-3x}}{\\operatorname{sin}(4x)}$$"
   ]
  },
  {
   "cell_type": "code",
   "execution_count": 196,
   "metadata": {},
   "outputs": [
    {
     "data": {
      "text/latex": [
       "$\\displaystyle \\frac{5}{4}$"
      ],
      "text/plain": [
       "5/4"
      ]
     },
     "execution_count": 196,
     "metadata": {},
     "output_type": "execute_result"
    }
   ],
   "source": [
    "equation = (smp.exp(2*x)-smp.exp(-3*x))/(smp.sin(4*x))\n",
    "smp.limit(equation,x,0)"
   ]
  },
  {
   "cell_type": "markdown",
   "metadata": {},
   "source": [
    "Результат совпадает с реальностью. Воспользовавшись разложением функций по формуле тейлора(или правилом лопиталя) получим $5/4$"
   ]
  },
  {
   "cell_type": "markdown",
   "metadata": {},
   "source": [
    "##### Производные"
   ]
  },
  {
   "cell_type": "markdown",
   "metadata": {},
   "source": [
    "`.diff(func,arg)` - дифференцирование функции `func` по переменной `arg`"
   ]
  },
  {
   "cell_type": "markdown",
   "metadata": {},
   "source": [
    "В sympy заложены все правила обращения с производными. Например, она умеет применять цепное правило для дифференцирования функций. Например"
   ]
  },
  {
   "cell_type": "code",
   "execution_count": 197,
   "metadata": {},
   "outputs": [],
   "source": [
    "f,g = smp.symbols('f g',cls = smp.Function)\n",
    "x = smp.symbols('x') \n",
    "f = f(x)\n",
    "g = g(f) #функция g зависит от функции f, которая зависит от x\n"
   ]
  },
  {
   "cell_type": "code",
   "execution_count": 198,
   "metadata": {},
   "outputs": [
    {
     "data": {
      "text/latex": [
       "$\\displaystyle \\frac{d}{d x} f{\\left(x \\right)} \\frac{d}{d f{\\left(x \\right)}} g{\\left(f{\\left(x \\right)} \\right)}$"
      ],
      "text/plain": [
       "Derivative(f(x), x)*Derivative(g(f(x)), f(x))"
      ]
     },
     "execution_count": 198,
     "metadata": {},
     "output_type": "execute_result"
    }
   ],
   "source": [
    "smp.diff(g) #дифференцирование функции g (согласно цепному правилу)"
   ]
  },
  {
   "cell_type": "markdown",
   "metadata": {},
   "source": [
    "В качестве примера, попробуем продифференцировать выражение $\\operatorname{sin}(x)+20x^{2}$"
   ]
  },
  {
   "cell_type": "code",
   "execution_count": 199,
   "metadata": {},
   "outputs": [
    {
     "data": {
      "text/latex": [
       "$\\displaystyle 40 x + \\cos{\\left(x \\right)}$"
      ],
      "text/plain": [
       "40*x + cos(x)"
      ]
     },
     "execution_count": 199,
     "metadata": {},
     "output_type": "execute_result"
    }
   ],
   "source": [
    "smp.diff(smp.sin(x)+20*(x**2),x)"
   ]
  },
  {
   "cell_type": "markdown",
   "metadata": {},
   "source": [
    "##### Первообразные и неопределенные интегралы"
   ]
  },
  {
   "cell_type": "markdown",
   "metadata": {},
   "source": [
    "`integrate(f,arg)` - взятие первообразной функции `f` по переменной `arg`"
   ]
  },
  {
   "cell_type": "markdown",
   "metadata": {},
   "source": [
    "Попробуем вычислить неопределенный интеграл функции распределения максвелла. $$F_{3}(v) = 4 \\pi\\left(\\frac{m}{2 \\pi k T}\\right)^{\\frac{3}{2}} \\cdot v^{2} \\cdot e^{-\\frac{m v^{2}}{2 k T}}$$"
   ]
  },
  {
   "cell_type": "code",
   "execution_count": 200,
   "metadata": {},
   "outputs": [
    {
     "data": {
      "text/latex": [
       "$\\displaystyle \\frac{1.4142135623731 \\left(\\frac{m}{T k}\\right)^{1.5} \\left(\\begin{cases} - \\frac{T k v e^{- \\frac{m v^{2}}{2 T k}}}{m} + \\frac{\\sqrt{2} \\sqrt{\\pi} T k \\operatorname{erf}{\\left(\\frac{\\sqrt{2} v \\sqrt{\\frac{m}{T k}}}{2} \\right)}}{2 m \\sqrt{\\frac{m}{T k}}} & \\text{for}\\: m \\neq 0 \\\\\\frac{v^{3}}{3} & \\text{otherwise} \\end{cases}\\right)}{\\pi^{0.5}}$"
      ],
      "text/plain": [
       "1.4142135623731*(m/(T*k))**1.5*Piecewise((-T*k*v*exp(-m*v**2/(2*T*k))/m + sqrt(2)*sqrt(pi)*T*k*erf(sqrt(2)*v*sqrt(m/(T*k))/2)/(2*m*sqrt(m/(T*k))), Ne(m, 0)), (v**3/3, True))/pi**0.5"
      ]
     },
     "execution_count": 200,
     "metadata": {},
     "output_type": "execute_result"
    }
   ],
   "source": [
    "v,k,T,m = smp.symbols('v k T m',real = True)\n",
    "F3 = smp.pi*4*(v**2)*smp.exp(-(m*(v**2))/(2*k*T))*((m/(2*smp.pi*k*T))**1.5) #функция распределения максвелла по модулям скоростей\n",
    "smp.integrate(F3,v)"
   ]
  },
  {
   "cell_type": "markdown",
   "metadata": {},
   "source": [
    "Для вычисления превообразной используется тот же метод. Только теперь в качестве аргумента `arg` нужно передавать `tuple`. Нулевым членом в ктором является пременная, по которой берется интеграл.\n",
    "Первым - нижний предел интегрирования, вторым - верхний предел интегрирования.\n",
    "Например:"
   ]
  },
  {
   "cell_type": "code",
   "execution_count": 201,
   "metadata": {},
   "outputs": [
    {
     "data": {
      "text/latex": [
       "$\\displaystyle 1 - \\cos{\\left(x \\right)}$"
      ],
      "text/plain": [
       "1 - cos(x)"
      ]
     },
     "execution_count": 201,
     "metadata": {},
     "output_type": "execute_result"
    }
   ],
   "source": [
    "smp.integrate(smp.sin(x),(x,0,x))"
   ]
  },
  {
   "cell_type": "markdown",
   "metadata": {},
   "source": [
    "### Конвертация символьного выражения в функцию"
   ]
  },
  {
   "cell_type": "markdown",
   "metadata": {},
   "source": [
    "Метод `.lamdify(variables,expr)` позволяет конвертировать символьное выражение в обычную функцию python. \n",
    "Пусть у нас имеется функция от переменных $x$ и $y$, заданная символьно. Например $\\operatorname{F}(x,y) = \\frac{x^2+y^2}{x-y}$"
   ]
  },
  {
   "cell_type": "code",
   "execution_count": 202,
   "metadata": {},
   "outputs": [
    {
     "data": {
      "text/latex": [
       "$\\displaystyle \\frac{x^{2} + y^{2}}{x - y}$"
      ],
      "text/plain": [
       "(x**2 + y**2)/(x - y)"
      ]
     },
     "execution_count": 202,
     "metadata": {},
     "output_type": "execute_result"
    }
   ],
   "source": [
    "F = (x**2+y**2)/(x-y)\n",
    "F"
   ]
  },
  {
   "cell_type": "markdown",
   "metadata": {},
   "source": [
    "Данная функция $\\operatorname{F}$ может быть переконвертирована в обычную функцию python. Это часто полезно, например для построения графиков."
   ]
  },
  {
   "cell_type": "code",
   "execution_count": 203,
   "metadata": {},
   "outputs": [],
   "source": [
    "F_f = smp.lambdify([x,y],F)"
   ]
  },
  {
   "cell_type": "markdown",
   "metadata": {},
   "source": [
    "Первый аргумент метода - список переменных, от которых зависит функция. Наша $\\operatorname{F}$ зависит от $x$ и $y$, поэтому был передан массив `[x,y]`. \n",
    "Второй аргумент метода - выражение, которые мы хотим переконвертировать. Мы передали F. \n",
    "\n",
    "В результате получаем обычную функцию F_f, значение которой можно посчитать. Сделаем это в точке $(2,1)$"
   ]
  },
  {
   "cell_type": "code",
   "execution_count": 204,
   "metadata": {},
   "outputs": [
    {
     "data": {
      "text/plain": [
       "5.0"
      ]
     },
     "execution_count": 204,
     "metadata": {},
     "output_type": "execute_result"
    }
   ],
   "source": [
    "F_f(2,1)"
   ]
  },
  {
   "cell_type": "markdown",
   "metadata": {},
   "source": [
    "Победа. $\\frac{2^2+1^2}{2-1}$ дейтсвительно равно пяти. Стоит заметить, что порядок следования переменных в массиве `variables` важен. При передаче `[y,x]` вместо `[x,y]` получаем другой результат:"
   ]
  },
  {
   "cell_type": "code",
   "execution_count": 205,
   "metadata": {},
   "outputs": [
    {
     "data": {
      "text/plain": [
       "-5.0"
      ]
     },
     "execution_count": 205,
     "metadata": {},
     "output_type": "execute_result"
    }
   ],
   "source": [
    "smp.lambdify([y,x],F)(2,1)"
   ]
  },
  {
   "cell_type": "markdown",
   "metadata": {},
   "source": [
    "Ведь в таком случае переменные x и y меняются местами. Первым аргументом возвращаемой функции станет y, а вторым x."
   ]
  },
  {
   "cell_type": "markdown",
   "metadata": {},
   "source": [
    "Возвращаемая методом `lamdify` функция может принимать массивы **numpy**(`np.ndarray`) в качестве аргументов. Это полезно при построении графиков, и произведении большого количества вычислений."
   ]
  },
  {
   "cell_type": "code",
   "execution_count": 206,
   "metadata": {},
   "outputs": [
    {
     "data": {
      "image/png": "[encoded data removed]",
      "text/plain": [
       "<Figure size 432x288 with 1 Axes>"
      ]
     },
     "metadata": {
      "needs_background": "light"
     },
     "output_type": "display_data"
    }
   ],
   "source": [
    "x_a = np.linspace(0,100,1000) #переменная x пробегает знначения от нуля до ста\n",
    "y_a = -4 #зафиксируем y\n",
    "F_a = F_f(x_a,y_a)\n",
    "plt.plot(x_a,F_a) #строим график зависимости F от x при фиксированной переменной y\n",
    "plt.show()"
   ]
  },
  {
   "cell_type": "markdown",
   "metadata": {},
   "source": [
    "## Пример - симуляция полёта камня, брошенного под углом к горизонту"
   ]
  },
  {
   "cell_type": "markdown",
   "metadata": {},
   "source": [
    "Попробую решить известную школьную задачу используя **sympy**."
   ]
  },
  {
   "cell_type": "markdown",
   "metadata": {},
   "source": [
    "Пусть мы бросаем камень массой $m$ под углом $\\alpha$ к горизонту. Так как камень находится в поле силы тяжести на него действует сила $F = m\\cdot g$.\n",
    "Попробуем построить модель, рассчитывающую траекторию полёта камня в зависимости от начальных данных(угла и массы)."
   ]
  },
  {
   "cell_type": "markdown",
   "metadata": {},
   "source": [
    "![title](kamen.png)"
   ]
  },
  {
   "cell_type": "code",
   "execution_count": 207,
   "metadata": {},
   "outputs": [],
   "source": [
    "t,v0,alpha,g = smp.symbols(r't V_{0} \\alpha g',positive = True,real = True) #объявляем переменные начальных данных\n",
    "x = v0*smp.cos(alpha)*t #закон движения камня по оси x\n",
    "y = v0*smp.sin(alpha)*t - g*(t**2)/2 #закон движения камня по оси y"
   ]
  },
  {
   "cell_type": "code",
   "execution_count": 208,
   "metadata": {},
   "outputs": [
    {
     "data": {
      "text/latex": [
       "$\\displaystyle V_{0} t \\cos{\\left(\\alpha \\right)}$"
      ],
      "text/plain": [
       "V_{0}*t*cos(\\alpha)"
      ]
     },
     "execution_count": 208,
     "metadata": {},
     "output_type": "execute_result"
    }
   ],
   "source": [
    "x"
   ]
  },
  {
   "cell_type": "code",
   "execution_count": 209,
   "metadata": {},
   "outputs": [
    {
     "data": {
      "text/latex": [
       "$\\displaystyle V_{0} t \\sin{\\left(\\alpha \\right)} - \\frac{g t^{2}}{2}$"
      ],
      "text/plain": [
       "V_{0}*t*sin(\\alpha) - g*t**2/2"
      ]
     },
     "execution_count": 209,
     "metadata": {},
     "output_type": "execute_result"
    }
   ],
   "source": [
    "y"
   ]
  },
  {
   "cell_type": "markdown",
   "metadata": {},
   "source": [
    "Рассчитаем время падения, решив $y(t) = 0$"
   ]
  },
  {
   "cell_type": "code",
   "execution_count": 210,
   "metadata": {},
   "outputs": [
    {
     "data": {
      "text/plain": [
       "[2*V_{0}*sin(\\alpha)/g]"
      ]
     },
     "execution_count": 210,
     "metadata": {},
     "output_type": "execute_result"
    }
   ],
   "source": [
    "tFall = smp.solve(y,t)\n",
    "tFall"
   ]
  },
  {
   "cell_type": "markdown",
   "metadata": {},
   "source": [
    "Теперь конвертируем функции в числовые"
   ]
  },
  {
   "cell_type": "code",
   "execution_count": 211,
   "metadata": {},
   "outputs": [],
   "source": [
    "x_f = smp.lambdify([t,v0,alpha,g],x)\n",
    "y_f = smp.lambdify([t,v0,alpha,g],y)\n",
    "tFall_f = smp.lambdify([v0,alpha,g],tFall)"
   ]
  },
  {
   "cell_type": "markdown",
   "metadata": {},
   "source": [
    "Теперь можем ввести параметры камня и построить симуляцию его падения, используя полученные числовые функции."
   ]
  },
  {
   "cell_type": "code",
   "execution_count": 212,
   "metadata": {},
   "outputs": [],
   "source": [
    "speed,alpha,g = 5,np.pi/3,9.81\n",
    "tFall = tFall_f(speed,alpha,g)[0] #Время падения при заданных параметрах"
   ]
  },
  {
   "cell_type": "code",
   "execution_count": 213,
   "metadata": {},
   "outputs": [
    {
     "data": {
      "image/png": "[encoded data removed]",
      "text/plain": [
       "<Figure size 432x288 with 1 Axes>"
      ]
     },
     "metadata": {
      "needs_background": "light"
     },
     "output_type": "display_data"
    }
   ],
   "source": [
    "t = np.linspace(0,tFall,1000)\n",
    "plt.plot(x_f(t,speed,alpha,g),y_f(t,speed,alpha,g))\n",
    "plt.show()"
   ]
  },
  {
   "cell_type": "markdown",
   "metadata": {},
   "source": [
    "## Матрицы"
   ]
  },
  {
   "cell_type": "markdown",
   "metadata": {},
   "source": [
    "Заведём переменные, которые будут использованы в качестве компонент матриц."
   ]
  },
  {
   "cell_type": "code",
   "execution_count": 214,
   "metadata": {},
   "outputs": [],
   "source": [
    "x,y,z,u1,u2,u3,v1,v2,v3 = smp.symbols(r\"x y z u_{1} u_{2} u_{3} v_{1} v_{2} v_{3}\")"
   ]
  },
  {
   "cell_type": "markdown",
   "metadata": {},
   "source": [
    "Для **создания матриц и векторов** используется метод `.Matrix(arr)`. Аргумент `arr` - массив(или другой итерируемый объект), состоящий из элементов матрицы. Данный массив может содержать как символьные объекты, так и числа(`int`,`float`,`double`...)."
   ]
  },
  {
   "cell_type": "markdown",
   "metadata": {},
   "source": [
    "#### Создание строк и столбцов"
   ]
  },
  {
   "cell_type": "markdown",
   "metadata": {},
   "source": [
    "При передаче одномерного массива в качестве аргумента методу `.Matrix()` создаётся столбец. Это сделано в угоду удосбства. Запись `.Matrix([el1,el2,el3])` проще чем `.Matrix([[el1],[el2],[el3]])`, хоть и результат их работы одинаковый:"
   ]
  },
  {
   "cell_type": "code",
   "execution_count": 219,
   "metadata": {},
   "outputs": [],
   "source": [
    "uVector = smp.Matrix([u1,u2,u3]) #создаем столбец, передавая одномерный массив\n",
    "uVector2 = smp.Matrix([[u1],[u2],[u3]]) #тот же столбец, но созданный двумерным массивом"
   ]
  },
  {
   "cell_type": "code",
   "execution_count": 220,
   "metadata": {},
   "outputs": [
    {
     "data": {
      "text/latex": [
       "$\\displaystyle \\left[\\begin{matrix}u_{1}\\\\u_{2}\\\\u_{3}\\end{matrix}\\right]$"
      ],
      "text/plain": [
       "Matrix([\n",
       "[u_{1}],\n",
       "[u_{2}],\n",
       "[u_{3}]])"
      ]
     },
     "execution_count": 220,
     "metadata": {},
     "output_type": "execute_result"
    }
   ],
   "source": [
    "uVector"
   ]
  },
  {
   "cell_type": "code",
   "execution_count": 221,
   "metadata": {},
   "outputs": [
    {
     "data": {
      "text/latex": [
       "$\\displaystyle \\left[\\begin{matrix}u_{1}\\\\u_{2}\\\\u_{3}\\end{matrix}\\right]$"
      ],
      "text/plain": [
       "Matrix([\n",
       "[u_{1}],\n",
       "[u_{2}],\n",
       "[u_{3}]])"
      ]
     },
     "execution_count": 221,
     "metadata": {},
     "output_type": "execute_result"
    }
   ],
   "source": [
    "uVector2"
   ]
  },
  {
   "cell_type": "code",
   "execution_count": 222,
   "metadata": {},
   "outputs": [
    {
     "data": {
      "text/plain": [
       "True"
      ]
     },
     "execution_count": 222,
     "metadata": {},
     "output_type": "execute_result"
    }
   ],
   "source": [
    "# Как видим результат одинаковый, убедимся в этом используя операцию сравнения двух матриц\n",
    "uVector2 == uVector"
   ]
  },
  {
   "cell_type": "markdown",
   "metadata": {},
   "source": [
    "Для создания строки придётся использовать операцию транспонирования:"
   ]
  },
  {
   "cell_type": "code",
   "execution_count": 224,
   "metadata": {},
   "outputs": [
    {
     "data": {
      "text/latex": [
       "$\\displaystyle \\left[\\begin{matrix}v_{1} & v_{2} & v_{3}\\end{matrix}\\right]$"
      ],
      "text/plain": [
       "Matrix([[v_{1}, v_{2}, v_{3}]])"
      ]
     },
     "execution_count": 224,
     "metadata": {},
     "output_type": "execute_result"
    }
   ],
   "source": [
    "vVector = smp.Matrix([v1,v2,v3]).T #создаем столбец и транспонируем его \n",
    "vVector"
   ]
  },
  {
   "cell_type": "markdown",
   "metadata": {},
   "source": [
    "#### Создание матриц "
   ]
  },
  {
   "cell_type": "markdown",
   "metadata": {},
   "source": [
    "Передадим двумерный массив в качестве аргумента методу `.Matrix()`. Получится символьный матричный объект, при этом строки массива станут строками матрицы(всё предельно логично):"
   ]
  },
  {
   "cell_type": "code",
   "execution_count": 226,
   "metadata": {},
   "outputs": [
    {
     "data": {
      "text/latex": [
       "$\\displaystyle \\left[\\begin{matrix}2 & 1\\\\5 & 5\\\\3 & 1\\end{matrix}\\right]$"
      ],
      "text/plain": [
       "Matrix([\n",
       "[2, 1],\n",
       "[5, 5],\n",
       "[3, 1]])"
      ]
     },
     "execution_count": 226,
     "metadata": {},
     "output_type": "execute_result"
    }
   ],
   "source": [
    "myMatrix = smp.Matrix([[2,1],[5,5],[3,1]])\n",
    "myMatrix"
   ]
  },
  {
   "cell_type": "markdown",
   "metadata": {},
   "source": [
    "#### Матричные операции\n",
    "\n",
    "Над символьными матрицами можно проделывать всевозможные матричные операции. Разберемся, какие методы для этого используются"
   ]
  },
  {
   "cell_type": "code",
   "execution_count": 234,
   "metadata": {},
   "outputs": [],
   "source": [
    "# Создаем матрицы, которые будут использованы для дальнейших примеров\n",
    "uVector = smp.Matrix([u1,u2,u3])\n",
    "vVector = smp.Matrix([v1,v2,v3]) \n",
    "mMatrix = smp.Matrix([[1,2],[0,1],[4,5]])\n"
   ]
  },
  {
   "cell_type": "markdown",
   "metadata": {},
   "source": [
    "Операции **сложения, вычитания, умножения на число** могут быть сделаны с помощью операторов `+`,`-`,`*`:"
   ]
  },
  {
   "cell_type": "code",
   "execution_count": 229,
   "metadata": {},
   "outputs": [
    {
     "data": {
      "text/latex": [
       "$\\displaystyle \\left[\\begin{matrix}2 u_{1} + 4 v_{1}\\\\2 u_{2} + 4 v_{2}\\\\2 u_{3} + 4 v_{3}\\end{matrix}\\right]$"
      ],
      "text/plain": [
       "Matrix([\n",
       "[2*u_{1} + 4*v_{1}],\n",
       "[2*u_{2} + 4*v_{2}],\n",
       "[2*u_{3} + 4*v_{3}]])"
      ]
     },
     "execution_count": 229,
     "metadata": {},
     "output_type": "execute_result"
    }
   ],
   "source": [
    "2*uVector-3*vVector+7*vVector"
   ]
  },
  {
   "cell_type": "markdown",
   "metadata": {},
   "source": [
    "**Скалярное произведение векторов** выполняется при помощи метода `.dot(mat1)` класса матричного объекта:"
   ]
  },
  {
   "cell_type": "code",
   "execution_count": 231,
   "metadata": {},
   "outputs": [
    {
     "data": {
      "text/latex": [
       "$\\displaystyle u_{1} v_{1} + u_{2} v_{2} + u_{3} v_{3}$"
      ],
      "text/plain": [
       "u_{1}*v_{1} + u_{2}*v_{2} + u_{3}*v_{3}"
      ]
     },
     "execution_count": 231,
     "metadata": {},
     "output_type": "execute_result"
    }
   ],
   "source": [
    "uVector.dot(vVector) #"
   ]
  },
  {
   "cell_type": "markdown",
   "metadata": {},
   "source": [
    "**Векторное произвдение** осуществялется методов `.cross(vec)` класса матричного объекта:"
   ]
  },
  {
   "cell_type": "code",
   "execution_count": 235,
   "metadata": {},
   "outputs": [
    {
     "data": {
      "text/latex": [
       "$\\displaystyle \\left[\\begin{matrix}u_{2} v_{3} - u_{3} v_{2}\\\\- u_{1} v_{3} + u_{3} v_{1}\\\\u_{1} v_{2} - u_{2} v_{1}\\end{matrix}\\right]$"
      ],
      "text/plain": [
       "Matrix([\n",
       "[ u_{2}*v_{3} - u_{3}*v_{2}],\n",
       "[-u_{1}*v_{3} + u_{3}*v_{1}],\n",
       "[ u_{1}*v_{2} - u_{2}*v_{1}]])"
      ]
     },
     "execution_count": 235,
     "metadata": {},
     "output_type": "execute_result"
    }
   ],
   "source": [
    "uVector.cross(vVector)"
   ]
  },
  {
   "cell_type": "markdown",
   "metadata": {},
   "source": [
    "Для **матриичного умножения** могут быть использованы операторы `*` и `@`:"
   ]
  },
  {
   "cell_type": "code",
   "execution_count": 239,
   "metadata": {},
   "outputs": [
    {
     "data": {
      "text/latex": [
       "$\\displaystyle \\left[\\begin{matrix}v_{1} + 4 v_{3} & 2 v_{1} + v_{2} + 5 v_{3}\\end{matrix}\\right]$"
      ],
      "text/plain": [
       "Matrix([[v_{1} + 4*v_{3}, 2*v_{1} + v_{2} + 5*v_{3}]])"
      ]
     },
     "execution_count": 239,
     "metadata": {},
     "output_type": "execute_result"
    }
   ],
   "source": [
    "vVector.T*mMatrix"
   ]
  },
  {
   "cell_type": "code",
   "execution_count": 240,
   "metadata": {},
   "outputs": [
    {
     "data": {
      "text/latex": [
       "$\\displaystyle \\left[\\begin{matrix}u_{1} + 4 u_{3} & 2 u_{1} + u_{2} + 5 u_{3}\\end{matrix}\\right]$"
      ],
      "text/plain": [
       "Matrix([[u_{1} + 4*u_{3}, 2*u_{1} + u_{2} + 5*u_{3}]])"
      ]
     },
     "execution_count": 240,
     "metadata": {},
     "output_type": "execute_result"
    }
   ],
   "source": [
    "uVector.T@mMatrix"
   ]
  },
  {
   "cell_type": "markdown",
   "metadata": {},
   "source": [
    "**Найти норму** вектора позволяет метод `.norm()` класса матричного объекта"
   ]
  },
  {
   "cell_type": "code",
   "execution_count": 242,
   "metadata": {},
   "outputs": [
    {
     "data": {
      "text/latex": [
       "$\\displaystyle \\sqrt{\\left|{u_{1}}\\right|^{2} + \\left|{u_{2}}\\right|^{2} + \\left|{u_{3}}\\right|^{2}}$"
      ],
      "text/plain": [
       "sqrt(Abs(u_{1})**2 + Abs(u_{2})**2 + Abs(u_{3})**2)"
      ]
     },
     "execution_count": 242,
     "metadata": {},
     "output_type": "execute_result"
    }
   ],
   "source": [
    "uVector.norm()"
   ]
  },
  {
   "cell_type": "markdown",
   "metadata": {},
   "source": [
    "Рассмотренные ранее операции позволяют работать с векторами, и проделывать более сложные операции. Например можем найти проекцию одного вектора на другой:"
   ]
  },
  {
   "cell_type": "code",
   "execution_count": 246,
   "metadata": {},
   "outputs": [
    {
     "data": {
      "text/latex": [
       "$\\displaystyle \\left[\\begin{matrix}\\frac{v_{1} \\left(u_{1} v_{1} + u_{2} v_{2} + u_{3} v_{3}\\right)}{\\left|{v_{1}}\\right|^{2} + \\left|{v_{2}}\\right|^{2} + \\left|{v_{3}}\\right|^{2}}\\\\\\frac{v_{2} \\left(u_{1} v_{1} + u_{2} v_{2} + u_{3} v_{3}\\right)}{\\left|{v_{1}}\\right|^{2} + \\left|{v_{2}}\\right|^{2} + \\left|{v_{3}}\\right|^{2}}\\\\\\frac{v_{3} \\left(u_{1} v_{1} + u_{2} v_{2} + u_{3} v_{3}\\right)}{\\left|{v_{1}}\\right|^{2} + \\left|{v_{2}}\\right|^{2} + \\left|{v_{3}}\\right|^{2}}\\end{matrix}\\right]$"
      ],
      "text/plain": [
       "Matrix([\n",
       "[v_{1}*(u_{1}*v_{1} + u_{2}*v_{2} + u_{3}*v_{3})/(Abs(v_{1})**2 + Abs(v_{2})**2 + Abs(v_{3})**2)],\n",
       "[v_{2}*(u_{1}*v_{1} + u_{2}*v_{2} + u_{3}*v_{3})/(Abs(v_{1})**2 + Abs(v_{2})**2 + Abs(v_{3})**2)],\n",
       "[v_{3}*(u_{1}*v_{1} + u_{2}*v_{2} + u_{3}*v_{3})/(Abs(v_{1})**2 + Abs(v_{2})**2 + Abs(v_{3})**2)]])"
      ]
     },
     "execution_count": 246,
     "metadata": {},
     "output_type": "execute_result"
    }
   ],
   "source": [
    "projection = uVector.dot(vVector)*vVector/(vVector.norm()**2)\n",
    "projection"
   ]
  }
 ],
 "metadata": {
  "kernelspec": {
   "display_name": "Python 3.9.1 64-bit (system)",
   "language": "python",
   "name": "python3"
  },
  "language_info": {
   "codemirror_mode": {
    "name": "ipython",
    "version": 3
   },
   "file_extension": ".py",
   "mimetype": "text/x-python",
   "name": "python",
   "nbconvert_exporter": "python",
   "pygments_lexer": "ipython3",
   "version": "3.9.1"
  },
  "orig_nbformat": 4,
  "vscode": {
   "interpreter": {
    "hash": "c46ca4107e02cc35b8a86c8d0e6548e94f11f1e0488972cbcfefa78e90422c8a"
   }
  }
 },
 "nbformat": 4,
 "nbformat_minor": 2
}
