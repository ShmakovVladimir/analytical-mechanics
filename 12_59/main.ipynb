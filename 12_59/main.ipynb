{
 "cells": [
  {
   "attachments": {},
   "cell_type": "markdown",
   "metadata": {},
   "source": [
    "##### Подключение библиотек"
   ]
  },
  {
   "cell_type": "code",
   "execution_count": 38,
   "metadata": {},
   "outputs": [],
   "source": [
    "import sympy as smp\n",
    "import numpy as np\n",
    "from scipy.integrate import odeint\n",
    "import matplotlib.pyplot as plt\n",
    "from matplotlib.animation import FuncAnimation\n",
    "import matplotlib.patches as mpatches\n",
    "import matplotlib.lines\n",
    "import math"
   ]
  },
  {
   "attachments": {},
   "cell_type": "markdown",
   "metadata": {},
   "source": [
    "##### Необходимые символьные переменные"
   ]
  },
  {
   "cell_type": "code",
   "execution_count": 39,
   "metadata": {},
   "outputs": [],
   "source": [
    "x,phi,theta,psi = smp.symbols(r\"x \\phi \\theta \\psi\",cls = smp.Function)\n",
    "t,m,R,l0,c,g = smp.symbols(r\"t m R l_{0} c g\")\n",
    "\n",
    "x = x(t)\n",
    "phi = phi(t)\n",
    "theta = theta(t)\n",
    "psi = psi(t)\n",
    "\n",
    "x_d = smp.diff(x,t)\n",
    "phi_d = smp.diff(phi,t)\n",
    "theta_d = smp.diff(theta,t)\n",
    "psi_d = smp.diff(psi,t)\n",
    "\n",
    "x_dd = smp.diff(x_d,t)\n",
    "phi_dd = smp.diff(phi_d,t)\n",
    "theta_dd = smp.diff(theta_d,t)\n",
    "psi_dd = smp.diff(psi_d,t)"
   ]
  },
  {
   "attachments": {},
   "cell_type": "markdown",
   "metadata": {},
   "source": [
    "##### Потенциальная и кинетическая энергия, Лагранжиан системы"
   ]
  },
  {
   "cell_type": "code",
   "execution_count": 40,
   "metadata": {},
   "outputs": [
    {
     "data": {
      "text/latex": [
       "$\\displaystyle \\frac{R^{2} m \\left(\\sin^{2}{\\left(\\theta{\\left(t \\right)} \\right)} \\left(\\frac{d}{d t} \\psi{\\left(t \\right)}\\right)^{2} + \\left(\\frac{d}{d t} \\theta{\\left(t \\right)}\\right)^{2}\\right)}{8} + \\frac{R^{2} m \\left(\\cos^{2}{\\left(\\theta{\\left(t \\right)} \\right)} \\left(\\frac{d}{d t} \\psi{\\left(t \\right)}\\right)^{2} + \\left(\\frac{d}{d t} \\phi{\\left(t \\right)}\\right)^{2}\\right)}{4} + \\frac{m x^{2}{\\left(t \\right)} \\sin^{2}{\\left(\\theta{\\left(t \\right)} \\right)} \\left(\\frac{d}{d t} \\psi{\\left(t \\right)}\\right)^{2}}{2} + \\frac{m x^{2}{\\left(t \\right)} \\left(\\frac{d}{d t} \\theta{\\left(t \\right)}\\right)^{2}}{2} + \\frac{m \\left(\\frac{d}{d t} x{\\left(t \\right)}\\right)^{2}}{2}$"
      ],
      "text/plain": [
       "R**2*m*(sin(\\theta(t))**2*Derivative(\\psi(t), t)**2 + Derivative(\\theta(t), t)**2)/8 + R**2*m*(cos(\\theta(t))**2*Derivative(\\psi(t), t)**2 + Derivative(\\phi(t), t)**2)/4 + m*x(t)**2*sin(\\theta(t))**2*Derivative(\\psi(t), t)**2/2 + m*x(t)**2*Derivative(\\theta(t), t)**2/2 + m*Derivative(x(t), t)**2/2"
      ]
     },
     "execution_count": 40,
     "metadata": {},
     "output_type": "execute_result"
    }
   ],
   "source": [
    "T = m*(x_d**2)/2 + m*(x**2)*(smp.sin(theta)**2)*(psi_d**2)/2 + m*(x**2)*(theta_d**2)/2 + m*(R**2)*(theta_d**2 + (psi_d**2)*(smp.sin(theta)**2))/8 + m*(R**2)*(phi_d**2 + (psi_d**2)*(smp.cos(theta)**2))/4\n",
    "T"
   ]
  },
  {
   "cell_type": "code",
   "execution_count": 41,
   "metadata": {},
   "outputs": [
    {
     "data": {
      "text/latex": [
       "$\\displaystyle \\frac{c \\left(- l_{0} + x{\\left(t \\right)}\\right)^{2}}{2} + g m x{\\left(t \\right)} \\cos{\\left(\\theta{\\left(t \\right)} \\right)}$"
      ],
      "text/plain": [
       "c*(-l_{0} + x(t))**2/2 + g*m*x(t)*cos(\\theta(t))"
      ]
     },
     "execution_count": 41,
     "metadata": {},
     "output_type": "execute_result"
    }
   ],
   "source": [
    "P = m*g*x*smp.cos(theta) + c*((x-l0)**2)/2\n",
    "P"
   ]
  },
  {
   "cell_type": "code",
   "execution_count": 42,
   "metadata": {},
   "outputs": [
    {
     "data": {
      "text/latex": [
       "$\\displaystyle \\frac{R^{2} m \\left(\\sin^{2}{\\left(\\theta{\\left(t \\right)} \\right)} \\left(\\frac{d}{d t} \\psi{\\left(t \\right)}\\right)^{2} + \\left(\\frac{d}{d t} \\theta{\\left(t \\right)}\\right)^{2}\\right)}{8} + \\frac{R^{2} m \\left(\\cos^{2}{\\left(\\theta{\\left(t \\right)} \\right)} \\left(\\frac{d}{d t} \\psi{\\left(t \\right)}\\right)^{2} + \\left(\\frac{d}{d t} \\phi{\\left(t \\right)}\\right)^{2}\\right)}{4} - \\frac{c \\left(- l_{0} + x{\\left(t \\right)}\\right)^{2}}{2} - g m x{\\left(t \\right)} \\cos{\\left(\\theta{\\left(t \\right)} \\right)} + \\frac{m x^{2}{\\left(t \\right)} \\sin^{2}{\\left(\\theta{\\left(t \\right)} \\right)} \\left(\\frac{d}{d t} \\psi{\\left(t \\right)}\\right)^{2}}{2} + \\frac{m x^{2}{\\left(t \\right)} \\left(\\frac{d}{d t} \\theta{\\left(t \\right)}\\right)^{2}}{2} + \\frac{m \\left(\\frac{d}{d t} x{\\left(t \\right)}\\right)^{2}}{2}$"
      ],
      "text/plain": [
       "R**2*m*(sin(\\theta(t))**2*Derivative(\\psi(t), t)**2 + Derivative(\\theta(t), t)**2)/8 + R**2*m*(cos(\\theta(t))**2*Derivative(\\psi(t), t)**2 + Derivative(\\phi(t), t)**2)/4 - c*(-l_{0} + x(t))**2/2 - g*m*x(t)*cos(\\theta(t)) + m*x(t)**2*sin(\\theta(t))**2*Derivative(\\psi(t), t)**2/2 + m*x(t)**2*Derivative(\\theta(t), t)**2/2 + m*Derivative(x(t), t)**2/2"
      ]
     },
     "execution_count": 42,
     "metadata": {},
     "output_type": "execute_result"
    }
   ],
   "source": [
    "L = T-P\n",
    "L"
   ]
  },
  {
   "attachments": {},
   "cell_type": "markdown",
   "metadata": {},
   "source": [
    "##### Составление системы дифференциальных уравнений"
   ]
  },
  {
   "cell_type": "code",
   "execution_count": 43,
   "metadata": {},
   "outputs": [
    {
     "data": {
      "text/latex": [
       "$\\displaystyle - c \\left(l_{0} - x{\\left(t \\right)}\\right) + g m \\cos{\\left(\\theta{\\left(t \\right)} \\right)} - m x{\\left(t \\right)} \\sin^{2}{\\left(\\theta{\\left(t \\right)} \\right)} \\left(\\frac{d}{d t} \\psi{\\left(t \\right)}\\right)^{2} - m x{\\left(t \\right)} \\left(\\frac{d}{d t} \\theta{\\left(t \\right)}\\right)^{2} + m \\frac{d^{2}}{d t^{2}} x{\\left(t \\right)}$"
      ],
      "text/plain": [
       "-c*(l_{0} - x(t)) + g*m*cos(\\theta(t)) - m*x(t)*sin(\\theta(t))**2*Derivative(\\psi(t), t)**2 - m*x(t)*Derivative(\\theta(t), t)**2 + m*Derivative(x(t), (t, 2))"
      ]
     },
     "execution_count": 43,
     "metadata": {},
     "output_type": "execute_result"
    }
   ],
   "source": [
    "eq_1 = (smp.diff(smp.diff(L,x_d),t) - smp.diff(L,x)).simplify()\n",
    "eq_1"
   ]
  },
  {
   "cell_type": "code",
   "execution_count": 44,
   "metadata": {},
   "outputs": [
    {
     "data": {
      "text/latex": [
       "$\\displaystyle \\frac{R^{2} m \\frac{d^{2}}{d t^{2}} \\phi{\\left(t \\right)}}{2}$"
      ],
      "text/plain": [
       "R**2*m*Derivative(\\phi(t), (t, 2))/2"
      ]
     },
     "execution_count": 44,
     "metadata": {},
     "output_type": "execute_result"
    }
   ],
   "source": [
    "eq_2 = (smp.diff(smp.diff(L,phi_d),t) - smp.diff(L,phi)).simplify()\n",
    "eq_2"
   ]
  },
  {
   "cell_type": "code",
   "execution_count": 45,
   "metadata": {},
   "outputs": [
    {
     "data": {
      "text/latex": [
       "$\\displaystyle \\frac{m \\left(\\frac{R^{2} \\sin{\\left(2 \\theta{\\left(t \\right)} \\right)} \\left(\\frac{d}{d t} \\psi{\\left(t \\right)}\\right)^{2}}{2} + R^{2} \\frac{d^{2}}{d t^{2}} \\theta{\\left(t \\right)} - 4 g x{\\left(t \\right)} \\sin{\\left(\\theta{\\left(t \\right)} \\right)} - 2 x^{2}{\\left(t \\right)} \\sin{\\left(2 \\theta{\\left(t \\right)} \\right)} \\left(\\frac{d}{d t} \\psi{\\left(t \\right)}\\right)^{2} + 4 x^{2}{\\left(t \\right)} \\frac{d^{2}}{d t^{2}} \\theta{\\left(t \\right)} + 8 x{\\left(t \\right)} \\frac{d}{d t} \\theta{\\left(t \\right)} \\frac{d}{d t} x{\\left(t \\right)}\\right)}{4}$"
      ],
      "text/plain": [
       "m*(R**2*sin(2*\\theta(t))*Derivative(\\psi(t), t)**2/2 + R**2*Derivative(\\theta(t), (t, 2)) - 4*g*x(t)*sin(\\theta(t)) - 2*x(t)**2*sin(2*\\theta(t))*Derivative(\\psi(t), t)**2 + 4*x(t)**2*Derivative(\\theta(t), (t, 2)) + 8*x(t)*Derivative(\\theta(t), t)*Derivative(x(t), t))/4"
      ]
     },
     "execution_count": 45,
     "metadata": {},
     "output_type": "execute_result"
    }
   ],
   "source": [
    "eq_3 = (smp.diff(smp.diff(L,theta_d),t) - smp.diff(L,theta)).simplify()\n",
    "eq_3"
   ]
  },
  {
   "cell_type": "code",
   "execution_count": 46,
   "metadata": {},
   "outputs": [
    {
     "data": {
      "text/latex": [
       "$\\displaystyle \\frac{m \\left(- R^{2} \\sin{\\left(2 \\theta{\\left(t \\right)} \\right)} \\frac{d}{d t} \\psi{\\left(t \\right)} \\frac{d}{d t} \\theta{\\left(t \\right)} + \\frac{R^{2} \\cos{\\left(2 \\theta{\\left(t \\right)} \\right)} \\frac{d^{2}}{d t^{2}} \\psi{\\left(t \\right)}}{2} + \\frac{3 R^{2} \\frac{d^{2}}{d t^{2}} \\psi{\\left(t \\right)}}{2} + 4 x^{2}{\\left(t \\right)} \\sin{\\left(2 \\theta{\\left(t \\right)} \\right)} \\frac{d}{d t} \\psi{\\left(t \\right)} \\frac{d}{d t} \\theta{\\left(t \\right)} - 2 x^{2}{\\left(t \\right)} \\cos{\\left(2 \\theta{\\left(t \\right)} \\right)} \\frac{d^{2}}{d t^{2}} \\psi{\\left(t \\right)} + 2 x^{2}{\\left(t \\right)} \\frac{d^{2}}{d t^{2}} \\psi{\\left(t \\right)} - 4 x{\\left(t \\right)} \\cos{\\left(2 \\theta{\\left(t \\right)} \\right)} \\frac{d}{d t} \\psi{\\left(t \\right)} \\frac{d}{d t} x{\\left(t \\right)} + 4 x{\\left(t \\right)} \\frac{d}{d t} \\psi{\\left(t \\right)} \\frac{d}{d t} x{\\left(t \\right)}\\right)}{4}$"
      ],
      "text/plain": [
       "m*(-R**2*sin(2*\\theta(t))*Derivative(\\psi(t), t)*Derivative(\\theta(t), t) + R**2*cos(2*\\theta(t))*Derivative(\\psi(t), (t, 2))/2 + 3*R**2*Derivative(\\psi(t), (t, 2))/2 + 4*x(t)**2*sin(2*\\theta(t))*Derivative(\\psi(t), t)*Derivative(\\theta(t), t) - 2*x(t)**2*cos(2*\\theta(t))*Derivative(\\psi(t), (t, 2)) + 2*x(t)**2*Derivative(\\psi(t), (t, 2)) - 4*x(t)*cos(2*\\theta(t))*Derivative(\\psi(t), t)*Derivative(x(t), t) + 4*x(t)*Derivative(\\psi(t), t)*Derivative(x(t), t))/4"
      ]
     },
     "execution_count": 46,
     "metadata": {},
     "output_type": "execute_result"
    }
   ],
   "source": [
    "eq_4 = (smp.diff(smp.diff(L,psi_d),t) - smp.diff(L,psi)).simplify()\n",
    "eq_4"
   ]
  },
  {
   "attachments": {},
   "cell_type": "markdown",
   "metadata": {},
   "source": [
    "Выражаем вторые производные, составляем систему вида:\n",
    "$$\n",
    "\\ddot{x} = f_{1}(\\dot{x},\\dot{\\psi},\\dot{\\phi},\\dot{\\theta},x,\\psi,\\phi,\\theta) \n",
    "\\\\\n",
    "\\ddot{\\phi} = f_{2}(\\dot{x},\\dot{\\psi},\\dot{\\phi},\\dot{\\theta},x,\\psi,\\phi,\\theta) \n",
    "\\\\\n",
    "\\ddot{\\theta} = f_{3}(\\dot{x},\\dot{\\psi},\\dot{\\phi},\\dot{\\theta},x,\\psi,\\phi,\\theta) \n",
    "\\\\\n",
    "\\ddot{\\psi} = f_{4}(\\dot{x},\\dot{\\psi},\\dot{\\phi},\\dot{\\theta},x,\\psi,\\phi,\\theta) \n",
    "$$"
   ]
  },
  {
   "cell_type": "code",
   "execution_count": 47,
   "metadata": {},
   "outputs": [
    {
     "data": {
      "text/latex": [
       "$\\displaystyle \\frac{c l_{0}}{m} - \\frac{c x{\\left(t \\right)}}{m} - g \\cos{\\left(\\theta{\\left(t \\right)} \\right)} + x{\\left(t \\right)} \\sin^{2}{\\left(\\theta{\\left(t \\right)} \\right)} \\left(\\frac{d}{d t} \\psi{\\left(t \\right)}\\right)^{2} + x{\\left(t \\right)} \\left(\\frac{d}{d t} \\theta{\\left(t \\right)}\\right)^{2}$"
      ],
      "text/plain": [
       "c*l_{0}/m - c*x(t)/m - g*cos(\\theta(t)) + x(t)*sin(\\theta(t))**2*Derivative(\\psi(t), t)**2 + x(t)*Derivative(\\theta(t), t)**2"
      ]
     },
     "execution_count": 47,
     "metadata": {},
     "output_type": "execute_result"
    }
   ],
   "source": [
    "doubleDeriv = smp.solve([eq_1,eq_2,eq_3,eq_4],\n",
    "                        [x_dd,phi_dd,theta_dd,psi_dd],\n",
    "                        rational = False,\n",
    "                        simplify = False)\n",
    "doubleDeriv[x_dd]"
   ]
  },
  {
   "attachments": {},
   "cell_type": "markdown",
   "metadata": {},
   "source": [
    "Линеаризуем систему, введя дополнительные переменные:\n",
    "$w_{x} = \\dot{x} \\ \\ w_{\\phi} = \\dot{\\phi} \\ \\ w_{\\theta} = \\dot{\\theta} \\ \\ w_{\\psi} = \\dot{\\psi}$\n",
    "\n",
    "Система примет вид:\n",
    "$$\n",
    "\\dot{w_{x}} = f_{1}(w_{x},w_{\\phi},w_{\\theta},w_{\\psi},x,\\phi,\\theta,\\psi)\n",
    "\\\\\n",
    "w_{x} = \\dot{x}\n",
    "\\\\ \n",
    "\\dot{w_{\\phi}} = f_{2}(w_{x},w_{\\phi},w_{\\theta},w_{\\psi},x,\\phi,\\theta,\\psi)\n",
    "\\\\\n",
    "w_{\\phi} = \\dot{\\phi}\n",
    "\\\\ \n",
    "\\dots\n",
    "\n",
    "\n",
    "$$"
   ]
  },
  {
   "cell_type": "code",
   "execution_count": 48,
   "metadata": {},
   "outputs": [],
   "source": [
    "w_x_d_f = smp.lambdify((x,phi,theta,psi,x_d,phi_d,theta_d,psi_d,g,m,R,l0,c,t),\n",
    "                        doubleDeriv[x_dd])\n",
    "w_x_f = smp.lambdify((x_d),x_d)\n",
    "w_phi_d_f = smp.lambdify((x,phi,theta,psi,x_d,phi_d,theta_d,psi_d,g,m,R,l0,c,t),\n",
    "                        doubleDeriv[phi_dd])\n",
    "w_phi_f = smp.lambdify((phi_d),phi_d)\n",
    "w_theta_d_f = smp.lambdify((x,phi,theta,psi,x_d,phi_d,theta_d,psi_d,g,m,R,l0,c,t),\n",
    "                        doubleDeriv[theta_dd])\n",
    "w_theta_f = smp.lambdify((theta_d),theta_d)\n",
    "w_psi_d_f = smp.lambdify((x,phi,theta,psi,x_d,phi_d,theta_d,psi_d,g,m,R,l0,c,t),\n",
    "                        doubleDeriv[psi_dd])\n",
    "w_psi_f = smp.lambdify((psi_d),psi_d)"
   ]
  },
  {
   "cell_type": "code",
   "execution_count": 49,
   "metadata": {},
   "outputs": [],
   "source": [
    "def system(S,t):\n",
    "    x,w_x,phi,w_phi,theta,w_theta,psi,w_psi = S\n",
    "    return [\n",
    "        w_x_f(w_x),\n",
    "        w_x_d_f(x,phi,theta,psi,w_x,w_phi,w_theta,w_psi,g,m,R,l0,c,t),\n",
    "        w_phi_f(w_phi),\n",
    "        w_phi_d_f(x,phi,theta,psi,w_x,w_phi,w_theta,w_psi,g,m,R,l0,c,t),\n",
    "        w_theta_f(w_theta),\n",
    "        w_theta_d_f(x,phi,theta,psi,w_x,w_phi,w_theta,w_psi,g,m,R,l0,c,t),\n",
    "        w_psi_f(w_psi),\n",
    "        w_psi_d_f(x,phi,theta,psi,w_x,w_phi,w_theta,w_psi,g,m,R,l0,c,t)\n",
    "    ]"
   ]
  },
  {
   "attachments": {},
   "cell_type": "markdown",
   "metadata": {},
   "source": [
    "### Решение системы дифференциальных уравнений"
   ]
  },
  {
   "attachments": {},
   "cell_type": "markdown",
   "metadata": {},
   "source": [
    "Начальные условия:\n",
    "$$\n",
    "start = [x_{0},\\dot{x}(0),\\phi_{0},\\dot{\\phi}(0),\\theta_{0},\\dot{\\theta}(0),\\psi_{0},\\dot{\\psi}(0)]^{T}\n",
    "\n",
    "$$"
   ]
  },
  {
   "attachments": {},
   "cell_type": "markdown",
   "metadata": {},
   "source": [
    "Начальные условия"
   ]
  },
  {
   "cell_type": "code",
   "execution_count": 50,
   "metadata": {},
   "outputs": [],
   "source": [
    "g = 9.81\n",
    "m = 5\n",
    "c = 20\n",
    "R = 3\n",
    "l0 = 8\n",
    "framesQ = 2000\n",
    "start = [4,0,0,0.2,np.pi/3,1,np.pi/6,0.1]\n",
    "time = np.linspace(0,20,framesQ)\n",
    "ans = odeint(system,y0 = start, t = time)"
   ]
  },
  {
   "cell_type": "code",
   "execution_count": 51,
   "metadata": {},
   "outputs": [],
   "source": [
    "x = ans.T[0]\n",
    "phi = ans.T[2]\n",
    "theta = ans.T[4]\n",
    "psi = ans.T[6]\n",
    "np.save(\"parametrs.npy\",[R,framesQ,l0])\n",
    "np.savez(\"q.npz\",x = x,phi = phi,theta = theta,psi = psi)"
   ]
  },
  {
   "cell_type": "code",
   "execution_count": 52,
   "metadata": {},
   "outputs": [
    {
     "data": {
      "text/plain": [
       "Text(0.5, 1.0, 'Угол $\\\\psi$')"
      ]
     },
     "execution_count": 52,
     "metadata": {},
     "output_type": "execute_result"
    },
    {
     "data": {
      "image/png": "[encoded data removed]",
      "text/plain": [
       "<Figure size 1152x648 with 4 Axes>"
      ]
     },
     "metadata": {
      "needs_background": "light"
     },
     "output_type": "display_data"
    }
   ],
   "source": [
    "fig,ax = plt.subplots(2,2,figsize = (16,9))\n",
    "ax[0,0].plot(x)\n",
    "ax[0,0].set_title(r\"Отклонение конца пружины от положения равновесия($x$)\")\n",
    "\n",
    "ax[1,0].plot(phi)\n",
    "ax[1,0].set_title(r\"Угол $\\phi$\")\n",
    "\n",
    "ax[0,1].plot(theta)\n",
    "ax[0,1].set_title(r\"Угол $\\theta$\")\n",
    "\n",
    "ax[1,1].plot(psi)\n",
    "ax[1,1].set_title(r\"Угол $\\psi$\")"
   ]
  }
 ],
 "metadata": {
  "kernelspec": {
   "display_name": "Python 3",
   "language": "python",
   "name": "python3"
  },
  "language_info": {
   "codemirror_mode": {
    "name": "ipython",
    "version": 3
   },
   "file_extension": ".py",
   "mimetype": "text/x-python",
   "name": "python",
   "nbconvert_exporter": "python",
   "pygments_lexer": "ipython3",
   "version": "3.9.5"
  },
  "orig_nbformat": 4,
  "vscode": {
   "interpreter": {
    "hash": "11938c6bc6919ae2720b4d5011047913343b08a43b18698fd82dedb0d4417594"
   }
  }
 },
 "nbformat": 4,
 "nbformat_minor": 2
}
